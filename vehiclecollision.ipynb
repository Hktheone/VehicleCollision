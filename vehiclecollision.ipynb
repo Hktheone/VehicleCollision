{
 "cells": [
  {
   "cell_type": "code",
   "execution_count": 1,
   "metadata": {
    "colab": {
     "base_uri": "https://localhost:8080/"
    },
    "executionInfo": {
     "elapsed": 1474,
     "status": "ok",
     "timestamp": 1616763694451,
     "user": {
      "displayName": "Asad Sarwar",
      "photoUrl": "https://lh3.googleusercontent.com/a-/AOh14Ggmg8KAamuwr0KODjwTK-wdnaHVYfUs-pYngIAs8Q=s64",
      "userId": "07102495113250830136"
     },
     "user_tz": -300
    },
    "id": "ysyDd6EXBWFw",
    "outputId": "32fcee06-ee93-4214-e086-1f79ad5d5fee"
   },
   "outputs": [
    {
     "name": "stderr",
     "output_type": "stream",
     "text": [
      "/usr/local/lib/python3.7/dist-packages/sklearn/externals/six.py:31: FutureWarning: The module is deprecated in version 0.21 and will be removed in version 0.23 since we've dropped support for Python 2.7. Please rely on the official version of six (https://pypi.org/project/six/).\n",
      "  \"(https://pypi.org/project/six/).\", FutureWarning)\n",
      "/usr/local/lib/python3.7/dist-packages/sklearn/utils/deprecation.py:144: FutureWarning: The sklearn.neighbors.base module is  deprecated in version 0.22 and will be removed in version 0.24. The corresponding classes / functions should instead be imported from sklearn.neighbors. Anything that cannot be imported from sklearn.neighbors is now part of the private API.\n",
      "  warnings.warn(message, FutureWarning)\n"
     ]
    }
   ],
   "source": [
    "import numpy as np \n",
    "import matplotlib.pyplot as plt \n",
    "import pandas as pd\n",
    "import matplotlib.pyplot as plt\n",
    "import seaborn as sns\n",
    "from sklearn.model_selection import train_test_split\n",
    "from sklearn.preprocessing import StandardScaler,LabelEncoder\n",
    "from sklearn import tree\n",
    "from sklearn.model_selection import GridSearchCV\n",
    "from sklearn import metrics\n",
    "from imblearn.over_sampling import SMOTE\n",
    "from sklearn.ensemble import RandomForestClassifier\n",
    "from sklearn import *"
   ]
  },
  {
   "cell_type": "code",
   "execution_count": 2,
   "metadata": {
    "colab": {
     "base_uri": "https://localhost:8080/"
    },
    "executionInfo": {
     "elapsed": 650,
     "status": "ok",
     "timestamp": 1616763695827,
     "user": {
      "displayName": "Asad Sarwar",
      "photoUrl": "https://lh3.googleusercontent.com/a-/AOh14Ggmg8KAamuwr0KODjwTK-wdnaHVYfUs-pYngIAs8Q=s64",
      "userId": "07102495113250830136"
     },
     "user_tz": -300
    },
    "id": "lRKP28lZBvXb",
    "outputId": "62cebe5c-649a-4625-93a6-30a70e706b49"
   },
   "outputs": [
    {
     "name": "stdout",
     "output_type": "stream",
     "text": [
      "   Number_of_Vehicles           Road_Type  Speed_limit Light_Conditions  \\\n",
      "0                   2    Dual carriageway           40         Daylight   \n",
      "1                   2    Dual carriageway           40         Daylight   \n",
      "2                   2  Single carriageway           30         Daylight   \n",
      "3                   2  Single carriageway           30         Daylight   \n",
      "4                   2  Single carriageway           30         Daylight   \n",
      "\n",
      "   Weather_Conditions Road_Surface_Conditions Urban_or_Rural_Area  \\\n",
      "0  Fine no high winds                     Dry               Urban   \n",
      "1  Fine no high winds                     Dry               Urban   \n",
      "2  Fine no high winds                     Dry               Urban   \n",
      "3  Fine no high winds                     Dry               Urban   \n",
      "4  Fine no high winds                     Dry               Urban   \n",
      "\n",
      "  Vehicle_Manoeuvre 1st_Point_of_Impact Sex_of_Driver  Age_of_Driver  \\\n",
      "0       Going ahead               Front          Male             26   \n",
      "1           Waiting                Back        Female             20   \n",
      "2       Going ahead               Front          Male             54   \n",
      "3           Turning             Offside          Male             39   \n",
      "4           Turning               Front          Male             38   \n",
      "\n",
      "   Engine_Capacity_(CC) Damage  \n",
      "0                  2496  Light  \n",
      "1                  1198  Light  \n",
      "2                  1199  Light  \n",
      "3                  1998  Light  \n",
      "4                  1762  Light  \n",
      "(37869, 13)\n",
      "<class 'pandas.core.frame.DataFrame'>\n",
      "RangeIndex: 37869 entries, 0 to 37868\n",
      "Data columns (total 13 columns):\n",
      " #   Column                   Non-Null Count  Dtype \n",
      "---  ------                   --------------  ----- \n",
      " 0   Number_of_Vehicles       37869 non-null  int64 \n",
      " 1   Road_Type                37869 non-null  object\n",
      " 2   Speed_limit              37869 non-null  int64 \n",
      " 3   Light_Conditions         37869 non-null  object\n",
      " 4   Weather_Conditions       37869 non-null  object\n",
      " 5   Road_Surface_Conditions  37869 non-null  object\n",
      " 6   Urban_or_Rural_Area      37869 non-null  object\n",
      " 7   Vehicle_Manoeuvre        37869 non-null  object\n",
      " 8   1st_Point_of_Impact      37869 non-null  object\n",
      " 9   Sex_of_Driver            37869 non-null  object\n",
      " 10  Age_of_Driver            37869 non-null  int64 \n",
      " 11  Engine_Capacity_(CC)     37869 non-null  int64 \n",
      " 12  Damage                   37869 non-null  object\n",
      "dtypes: int64(4), object(9)\n",
      "memory usage: 3.8+ MB\n",
      "None\n",
      "       Number_of_Vehicles   Speed_limit  Age_of_Driver  Engine_Capacity_(CC)\n",
      "count        37869.000000  37869.000000   37869.000000          37869.000000\n",
      "mean             2.231324     33.154031      38.381103           1929.625023\n",
      "std              0.555507      9.532046      14.486654           1460.526046\n",
      "min              2.000000     20.000000      16.000000           1086.000000\n",
      "25%              2.000000     30.000000      27.000000           1388.000000\n",
      "50%              2.000000     30.000000      36.000000           1598.000000\n",
      "75%              2.000000     30.000000      47.000000           1991.000000\n",
      "max              7.000000     70.000000      96.000000          76370.000000\n"
     ]
    }
   ],
   "source": [
    "# Importing dataset and examining it\n",
    "dataset = pd.read_csv(\"/content/drive/MyDrive/VehicleCollisions.csv\")\n",
    "pd.set_option('display.max_columns', None) # to make sure you can see all the columns in output window\n",
    "print(dataset.head())\n",
    "print(dataset.shape)\n",
    "print(dataset.info())\n",
    "print(dataset.describe())"
   ]
  },
  {
   "cell_type": "code",
   "execution_count": 3,
   "metadata": {
    "executionInfo": {
     "elapsed": 606,
     "status": "ok",
     "timestamp": 1616763697209,
     "user": {
      "displayName": "Asad Sarwar",
      "photoUrl": "https://lh3.googleusercontent.com/a-/AOh14Ggmg8KAamuwr0KODjwTK-wdnaHVYfUs-pYngIAs8Q=s64",
      "userId": "07102495113250830136"
     },
     "user_tz": -300
    },
    "id": "L_rA8pnufkFY"
   },
   "outputs": [],
   "source": [
    "# Converting Categorical features into Numerical features\n",
    "le=LabelEncoder()\n",
    "def labeling(columName):\n",
    "  dataset[columName]=le.fit_transform(dataset[columName])"
   ]
  },
  {
   "cell_type": "code",
   "execution_count": 4,
   "metadata": {
    "executionInfo": {
     "elapsed": 655,
     "status": "ok",
     "timestamp": 1616763697781,
     "user": {
      "displayName": "Asad Sarwar",
      "photoUrl": "https://lh3.googleusercontent.com/a-/AOh14Ggmg8KAamuwr0KODjwTK-wdnaHVYfUs-pYngIAs8Q=s64",
      "userId": "07102495113250830136"
     },
     "user_tz": -300
    },
    "id": "DUSWavZHg_mv"
   },
   "outputs": [],
   "source": [
    "labeling('Road_Type')\n",
    "labeling('Speed_limit')\n",
    "labeling('Light_Conditions')\n",
    "labeling('Weather_Conditions')\n",
    "labeling('Road_Surface_Conditions')\n",
    "labeling('Urban_or_Rural_Area')\n",
    "labeling('Vehicle_Manoeuvre')\n",
    "labeling('1st_Point_of_Impact')\n",
    "labeling('Sex_of_Driver')\n",
    "labeling('Damage')\n"
   ]
  },
  {
   "cell_type": "code",
   "execution_count": 5,
   "metadata": {
    "colab": {
     "base_uri": "https://localhost:8080/"
    },
    "executionInfo": {
     "elapsed": 833,
     "status": "ok",
     "timestamp": 1616763698312,
     "user": {
      "displayName": "Asad Sarwar",
      "photoUrl": "https://lh3.googleusercontent.com/a-/AOh14Ggmg8KAamuwr0KODjwTK-wdnaHVYfUs-pYngIAs8Q=s64",
      "userId": "07102495113250830136"
     },
     "user_tz": -300
    },
    "id": "AmeyF2YKiIbZ",
    "outputId": "7bb34114-878a-4300-9bb2-2522e291195f"
   },
   "outputs": [
    {
     "data": {
      "text/plain": [
       "<bound method NDFrame.head of        Number_of_Vehicles  Road_Type  Speed_limit  Light_Conditions  \\\n",
       "0                       2          0            2                 3   \n",
       "1                       2          0            2                 3   \n",
       "2                       2          3            1                 3   \n",
       "3                       2          3            1                 3   \n",
       "4                       2          3            1                 3   \n",
       "...                   ...        ...          ...               ...   \n",
       "37864                   4          0            5                 3   \n",
       "37865                   4          0            5                 3   \n",
       "37866                   4          0            5                 3   \n",
       "37867                   2          0            5                 0   \n",
       "37868                   2          0            5                 0   \n",
       "\n",
       "       Weather_Conditions  Road_Surface_Conditions  Urban_or_Rural_Area  \\\n",
       "0                       1                        0                    1   \n",
       "1                       1                        0                    1   \n",
       "2                       1                        0                    1   \n",
       "3                       1                        0                    1   \n",
       "4                       1                        0                    1   \n",
       "...                   ...                      ...                  ...   \n",
       "37864                   1                        0                    0   \n",
       "37865                   1                        0                    0   \n",
       "37866                   1                        0                    0   \n",
       "37867                   1                        0                    0   \n",
       "37868                   1                        0                    0   \n",
       "\n",
       "       Vehicle_Manoeuvre  1st_Point_of_Impact  Sex_of_Driver  Age_of_Driver  \\\n",
       "0                      1                    1              1             26   \n",
       "1                      9                    0              0             20   \n",
       "2                      1                    1              1             54   \n",
       "3                      7                    3              1             39   \n",
       "4                      7                    1              1             38   \n",
       "...                  ...                  ...            ...            ...   \n",
       "37864                  1                    1              1             55   \n",
       "37865                  1                    1              1             42   \n",
       "37866                  1                    1              1             43   \n",
       "37867                  7                    3              1             30   \n",
       "37868                  7                    2              1             21   \n",
       "\n",
       "       Engine_Capacity_(CC)  Damage  \n",
       "0                      2496       0  \n",
       "1                      1198       0  \n",
       "2                      1199       0  \n",
       "3                      1998       0  \n",
       "4                      1762       0  \n",
       "...                     ...     ...  \n",
       "37864                  1998       1  \n",
       "37865                  2170       1  \n",
       "37866                  2664       1  \n",
       "37867                 11021       0  \n",
       "37868                  1596       0  \n",
       "\n",
       "[37869 rows x 13 columns]>"
      ]
     },
     "execution_count": 5,
     "metadata": {
      "tags": []
     },
     "output_type": "execute_result"
    }
   ],
   "source": [
    "dataset.head"
   ]
  },
  {
   "cell_type": "code",
   "execution_count": 6,
   "metadata": {
    "colab": {
     "base_uri": "https://localhost:8080/"
    },
    "executionInfo": {
     "elapsed": 1294,
     "status": "ok",
     "timestamp": 1616763699418,
     "user": {
      "displayName": "Asad Sarwar",
      "photoUrl": "https://lh3.googleusercontent.com/a-/AOh14Ggmg8KAamuwr0KODjwTK-wdnaHVYfUs-pYngIAs8Q=s64",
      "userId": "07102495113250830136"
     },
     "user_tz": -300
    },
    "id": "ZJBAG07ycfBs",
    "outputId": "1602737e-5b58-496c-8def-4f36a1ef6429"
   },
   "outputs": [
    {
     "name": "stdout",
     "output_type": "stream",
     "text": [
      "<class 'pandas.core.frame.DataFrame'>\n",
      "<class 'pandas.core.series.Series'>\n",
      "(37869, 12)\n",
      "(37869,)\n"
     ]
    }
   ],
   "source": [
    "# Dividing dataset into label and feature sets\n",
    "X = dataset.drop('Damage', axis = 1) # Features\n",
    "Y = dataset['Damage'] # Labels\n",
    "print(type(X))\n",
    "print(type(Y))\n",
    "print(X.shape)\n",
    "print(Y.shape)"
   ]
  },
  {
   "cell_type": "code",
   "execution_count": 7,
   "metadata": {
    "colab": {
     "base_uri": "https://localhost:8080/"
    },
    "executionInfo": {
     "elapsed": 870,
     "status": "ok",
     "timestamp": 1616763703511,
     "user": {
      "displayName": "Asad Sarwar",
      "photoUrl": "https://lh3.googleusercontent.com/a-/AOh14Ggmg8KAamuwr0KODjwTK-wdnaHVYfUs-pYngIAs8Q=s64",
      "userId": "07102495113250830136"
     },
     "user_tz": -300
    },
    "id": "4ErnklTajJ2t",
    "outputId": "83ff1e01-3258-480d-bc5c-e8e7184dd6dd"
   },
   "outputs": [
    {
     "name": "stdout",
     "output_type": "stream",
     "text": [
      "Number_of_Vehicles     0.017335\n",
      "Road_Type              0.019968\n",
      "Vehicle_Manoeuvre      0.013146\n",
      "1st_Point_of_Impact    0.060394\n",
      "Sex_of_Driver          0.034846\n",
      "Age_of_Driver          0.022677\n",
      "Damage                 1.000000\n",
      "Name: Damage, dtype: float64\n"
     ]
    }
   ],
   "source": [
    "#Using corelation to find the fearures that highly affect the results\n",
    "cor = dataset.corr()\n",
    "cor_target = cor['Damage']\n",
    "\n",
    "#Selecting highly correlated features\n",
    "relevant_features = cor_target[cor_target>0.01]\n",
    "\n",
    "#printin\n",
    "print(relevant_features)"
   ]
  },
  {
   "cell_type": "code",
   "execution_count": 8,
   "metadata": {
    "executionInfo": {
     "elapsed": 586,
     "status": "ok",
     "timestamp": 1616763704919,
     "user": {
      "displayName": "Asad Sarwar",
      "photoUrl": "https://lh3.googleusercontent.com/a-/AOh14Ggmg8KAamuwr0KODjwTK-wdnaHVYfUs-pYngIAs8Q=s64",
      "userId": "07102495113250830136"
     },
     "user_tz": -300
    },
    "id": "ZASNzHXWchN2"
   },
   "outputs": [],
   "source": [
    "# Normalizing numerical features so that each feature has mean 0 and variance 1\n",
    "feature_scaler = StandardScaler()\n",
    "X_scaled = feature_scaler.fit_transform(X)"
   ]
  },
  {
   "cell_type": "code",
   "execution_count": 9,
   "metadata": {
    "executionInfo": {
     "elapsed": 870,
     "status": "ok",
     "timestamp": 1616763706918,
     "user": {
      "displayName": "Asad Sarwar",
      "photoUrl": "https://lh3.googleusercontent.com/a-/AOh14Ggmg8KAamuwr0KODjwTK-wdnaHVYfUs-pYngIAs8Q=s64",
      "userId": "07102495113250830136"
     },
     "user_tz": -300
    },
    "id": "MVMrpabmck25"
   },
   "outputs": [],
   "source": [
    "# Dividing dataset into training and test sets\n",
    "X_train, X_test, Y_train, Y_test = train_test_split( X_scaled, Y, test_size = 0.3, random_state = 100)"
   ]
  },
  {
   "cell_type": "code",
   "execution_count": 10,
   "metadata": {
    "colab": {
     "base_uri": "https://localhost:8080/"
    },
    "executionInfo": {
     "elapsed": 575,
     "status": "ok",
     "timestamp": 1616763707422,
     "user": {
      "displayName": "Asad Sarwar",
      "photoUrl": "https://lh3.googleusercontent.com/a-/AOh14Ggmg8KAamuwr0KODjwTK-wdnaHVYfUs-pYngIAs8Q=s64",
      "userId": "07102495113250830136"
     },
     "user_tz": -300
    },
    "id": "5mDCe7TTsCe6",
    "outputId": "ed182a85-9489-4e53-f526-c6ab5e9e55a5"
   },
   "outputs": [
    {
     "name": "stdout",
     "output_type": "stream",
     "text": [
      "Number of observations in each class before oversampling (training data): \n",
      " 0    24715\n",
      "1     1793\n",
      "Name: Damage, dtype: int64\n"
     ]
    }
   ],
   "source": [
    "print(\"Number of observations in each class before oversampling (training data): \\n\", pd.Series(Y_train).value_counts())"
   ]
  },
  {
   "cell_type": "code",
   "execution_count": 11,
   "metadata": {
    "colab": {
     "base_uri": "https://localhost:8080/"
    },
    "executionInfo": {
     "elapsed": 824,
     "status": "ok",
     "timestamp": 1616763708353,
     "user": {
      "displayName": "Asad Sarwar",
      "photoUrl": "https://lh3.googleusercontent.com/a-/AOh14Ggmg8KAamuwr0KODjwTK-wdnaHVYfUs-pYngIAs8Q=s64",
      "userId": "07102495113250830136"
     },
     "user_tz": -300
    },
    "id": "JsD_2pqKcrvl",
    "outputId": "79ba7335-d133-465a-adde-860fa26969f9"
   },
   "outputs": [
    {
     "name": "stderr",
     "output_type": "stream",
     "text": [
      "/usr/local/lib/python3.7/dist-packages/sklearn/utils/deprecation.py:87: FutureWarning: Function safe_indexing is deprecated; safe_indexing is deprecated in version 0.22 and will be removed in version 0.24.\n",
      "  warnings.warn(msg, category=FutureWarning)\n"
     ]
    }
   ],
   "source": [
    "smote = SMOTE(random_state = 101)\n",
    "X_train,Y_train = smote.fit_sample(X_train,Y_train)"
   ]
  },
  {
   "cell_type": "code",
   "execution_count": 12,
   "metadata": {
    "colab": {
     "base_uri": "https://localhost:8080/"
    },
    "executionInfo": {
     "elapsed": 881,
     "status": "ok",
     "timestamp": 1616763708906,
     "user": {
      "displayName": "Asad Sarwar",
      "photoUrl": "https://lh3.googleusercontent.com/a-/AOh14Ggmg8KAamuwr0KODjwTK-wdnaHVYfUs-pYngIAs8Q=s64",
      "userId": "07102495113250830136"
     },
     "user_tz": -300
    },
    "id": "TeDs4pgbcupB",
    "outputId": "84ffc2c3-bb3c-405b-a7f1-7a9f86653e61"
   },
   "outputs": [
    {
     "name": "stdout",
     "output_type": "stream",
     "text": [
      "Number of observations in each class after oversampling (training data): \n",
      " 1    24715\n",
      "0    24715\n",
      "dtype: int64\n"
     ]
    }
   ],
   "source": [
    "\n",
    "print(\"Number of observations in each class after oversampling (training data): \\n\", pd.Series(Y_train).value_counts())"
   ]
  },
  {
   "cell_type": "code",
   "execution_count": 13,
   "metadata": {
    "colab": {
     "base_uri": "https://localhost:8080/",
     "height": 533
    },
    "executionInfo": {
     "elapsed": 26756,
     "status": "ok",
     "timestamp": 1616763739728,
     "user": {
      "displayName": "Asad Sarwar",
      "photoUrl": "https://lh3.googleusercontent.com/a-/AOh14Ggmg8KAamuwr0KODjwTK-wdnaHVYfUs-pYngIAs8Q=s64",
      "userId": "07102495113250830136"
     },
     "user_tz": -300
    },
    "id": "VpjK4vW_dT3G",
    "outputId": "e951ee0c-5995-4e27-c6b6-880643cf0d63"
   },
   "outputs": [
    {
     "data": {
      "image/png": "[encoded data removed]",
      "text/plain": [
       "<Figure size 576x432 with 2 Axes>"
      ]
     },
     "metadata": {
      "needs_background": "light",
      "tags": []
     },
     "output_type": "display_data"
    },
    {
     "name": "stdout",
     "output_type": "stream",
     "text": [
      "Confusion matrix: \n",
      " [[9996  601]\n",
      " [ 693   71]]\n",
      "TP:  71\n",
      "TN:  9996\n",
      "FP:  601\n",
      "FN:  693\n"
     ]
    }
   ],
   "source": [
    "# Building random forest model\n",
    "rfc = RandomForestClassifier(n_estimators=300, criterion='entropy', max_features='auto')\n",
    "rfc.fit(X_train,Y_train)\n",
    "Y_pred = rfc.predict(X_test)\n",
    "conf_mat = metrics.confusion_matrix(Y_test, Y_pred)\n",
    "plt.figure(figsize=(8,6))\n",
    "sns.heatmap(conf_mat,annot=True)\n",
    "plt.title(\"Confusion_matrix\")\n",
    "plt.xlabel(\"Predicted Class\")\n",
    "plt.ylabel(\"Actual class\")\n",
    "plt.show()\n",
    "print('Confusion matrix: \\n', conf_mat)\n",
    "print('TP: ', conf_mat[1,1])\n",
    "print('TN: ', conf_mat[0,0])\n",
    "print('FP: ', conf_mat[0,1])\n",
    "print('FN: ', conf_mat[1,0])"
   ]
  },
  {
   "cell_type": "code",
   "execution_count": 14,
   "metadata": {
    "executionInfo": {
     "elapsed": 942,
     "status": "ok",
     "timestamp": 1616763772414,
     "user": {
      "displayName": "Asad Sarwar",
      "photoUrl": "https://lh3.googleusercontent.com/a-/AOh14Ggmg8KAamuwr0KODjwTK-wdnaHVYfUs-pYngIAs8Q=s64",
      "userId": "07102495113250830136"
     },
     "user_tz": -300
    },
    "id": "GIhp9heXdT52"
   },
   "outputs": [],
   "source": [
    "# Tuning the random forest parameter 'n_estimators' and implementing cross-validation using Grid Search\n",
    "rfc = RandomForestClassifier(criterion='entropy', max_features='auto', random_state=1)\n",
    "grid_param = {'n_estimators': [50, 100, 150, 200, 250, 300]}"
   ]
  },
  {
   "cell_type": "code",
   "execution_count": 15,
   "metadata": {
    "executionInfo": {
     "elapsed": 662,
     "status": "ok",
     "timestamp": 1616763772992,
     "user": {
      "displayName": "Asad Sarwar",
      "photoUrl": "https://lh3.googleusercontent.com/a-/AOh14Ggmg8KAamuwr0KODjwTK-wdnaHVYfUs-pYngIAs8Q=s64",
      "userId": "07102495113250830136"
     },
     "user_tz": -300
    },
    "id": "BggzF5n6dT-B"
   },
   "outputs": [],
   "source": [
    "gd_sr = GridSearchCV(estimator=rfc, param_grid=grid_param, scoring='recall', cv=5)"
   ]
  },
  {
   "cell_type": "markdown",
   "metadata": {
    "id": "hFCA1fkEdgyl"
   },
   "source": [
    "\n",
    "\"\"\"\n",
    "In the above GridSearchCV(), scoring parameter should be set as follows:\n",
    "scoring = 'accuracy' when you want to maximize prediction accuracy\n",
    "scoring = 'recall' when you want to minimize false negatives\n",
    "scoring = 'precision' when you want to minimize false positives\n",
    "scoring = 'f1' when you want to balance false positives and false negatives (place equal emphasis on minimizing both)\n",
    "\"\"\""
   ]
  },
  {
   "cell_type": "code",
   "execution_count": 16,
   "metadata": {
    "colab": {
     "base_uri": "https://localhost:8080/"
    },
    "executionInfo": {
     "elapsed": 376415,
     "status": "ok",
     "timestamp": 1616764149973,
     "user": {
      "displayName": "Asad Sarwar",
      "photoUrl": "https://lh3.googleusercontent.com/a-/AOh14Ggmg8KAamuwr0KODjwTK-wdnaHVYfUs-pYngIAs8Q=s64",
      "userId": "07102495113250830136"
     },
     "user_tz": -300
    },
    "id": "2wuzdtuXdUCH",
    "outputId": "91716293-6c6a-4c94-acb1-2c12dc65dfac"
   },
   "outputs": [
    {
     "data": {
      "text/plain": [
       "GridSearchCV(cv=5, error_score=nan,\n",
       "             estimator=RandomForestClassifier(bootstrap=True, ccp_alpha=0.0,\n",
       "                                              class_weight=None,\n",
       "                                              criterion='entropy',\n",
       "                                              max_depth=None,\n",
       "                                              max_features='auto',\n",
       "                                              max_leaf_nodes=None,\n",
       "                                              max_samples=None,\n",
       "                                              min_impurity_decrease=0.0,\n",
       "                                              min_impurity_split=None,\n",
       "                                              min_samples_leaf=1,\n",
       "                                              min_samples_split=2,\n",
       "                                              min_weight_fraction_leaf=0.0,\n",
       "                                              n_estimators=100, n_jobs=None,\n",
       "                                              oob_score=False, random_state=1,\n",
       "                                              verbose=0, warm_start=False),\n",
       "             iid='deprecated', n_jobs=None,\n",
       "             param_grid={'n_estimators': [50, 100, 150, 200, 250, 300]},\n",
       "             pre_dispatch='2*n_jobs', refit=True, return_train_score=False,\n",
       "             scoring='recall', verbose=0)"
      ]
     },
     "execution_count": 16,
     "metadata": {
      "tags": []
     },
     "output_type": "execute_result"
    }
   ],
   "source": [
    "gd_sr.fit(X_train, Y_train)"
   ]
  },
  {
   "cell_type": "code",
   "execution_count": 17,
   "metadata": {
    "colab": {
     "base_uri": "https://localhost:8080/"
    },
    "executionInfo": {
     "elapsed": 831,
     "status": "ok",
     "timestamp": 1616764183812,
     "user": {
      "displayName": "Asad Sarwar",
      "photoUrl": "https://lh3.googleusercontent.com/a-/AOh14Ggmg8KAamuwr0KODjwTK-wdnaHVYfUs-pYngIAs8Q=s64",
      "userId": "07102495113250830136"
     },
     "user_tz": -300
    },
    "id": "UGem3XkXdUET",
    "outputId": "8faf3c7d-a429-41b5-f4af-3cf910230049"
   },
   "outputs": [
    {
     "name": "stdout",
     "output_type": "stream",
     "text": [
      "{'n_estimators': 250}\n"
     ]
    }
   ],
   "source": [
    "best_parameters = gd_sr.best_params_\n",
    "print(best_parameters)"
   ]
  },
  {
   "cell_type": "code",
   "execution_count": 18,
   "metadata": {
    "colab": {
     "base_uri": "https://localhost:8080/"
    },
    "executionInfo": {
     "elapsed": 1122,
     "status": "ok",
     "timestamp": 1616764185232,
     "user": {
      "displayName": "Asad Sarwar",
      "photoUrl": "https://lh3.googleusercontent.com/a-/AOh14Ggmg8KAamuwr0KODjwTK-wdnaHVYfUs-pYngIAs8Q=s64",
      "userId": "07102495113250830136"
     },
     "user_tz": -300
    },
    "id": "u4wgGdwMdUGj",
    "outputId": "9281eb1e-a265-464f-8625-4730e1490067"
   },
   "outputs": [
    {
     "name": "stdout",
     "output_type": "stream",
     "text": [
      "0.9196439409265628\n"
     ]
    }
   ],
   "source": [
    "best_result = gd_sr.best_score_ # Mean cross-validated score of the best_estimator\n",
    "print(best_result)"
   ]
  },
  {
   "cell_type": "code",
   "execution_count": 19,
   "metadata": {
    "colab": {
     "base_uri": "https://localhost:8080/"
    },
    "executionInfo": {
     "elapsed": 34308,
     "status": "ok",
     "timestamp": 1616764220513,
     "user": {
      "displayName": "Asad Sarwar",
      "photoUrl": "https://lh3.googleusercontent.com/a-/AOh14Ggmg8KAamuwr0KODjwTK-wdnaHVYfUs-pYngIAs8Q=s64",
      "userId": "07102495113250830136"
     },
     "user_tz": -300
    },
    "id": "OMaWg3GSdUIa",
    "outputId": "014688d9-6131-4918-800c-d592f4545141"
   },
   "outputs": [
    {
     "name": "stdout",
     "output_type": "stream",
     "text": [
      "Engine_Capacity_(CC)       0.282197\n",
      "Age_of_Driver              0.238736\n",
      "Vehicle_Manoeuvre          0.117858\n",
      "1st_Point_of_Impact        0.112285\n",
      "Speed_limit                0.051493\n",
      "Road_Type                  0.048390\n",
      "Number_of_Vehicles         0.037011\n",
      "Weather_Conditions         0.027424\n",
      "Road_Surface_Conditions    0.025055\n",
      "Light_Conditions           0.023787\n",
      "Sex_of_Driver              0.023703\n",
      "Urban_or_Rural_Area        0.012064\n",
      "dtype: float64\n"
     ]
    }
   ],
   "source": [
    "# Building random forest using the tuned parameter\n",
    "rfc = RandomForestClassifier(n_estimators=400, criterion='entropy', max_features='auto', random_state=1)\n",
    "rfc.fit(X_train,Y_train)\n",
    "featimp = pd.Series(rfc.feature_importances_, index=list(X)).sort_values(ascending=False)\n",
    "print(featimp)"
   ]
  },
  {
   "cell_type": "code",
   "execution_count": 20,
   "metadata": {
    "colab": {
     "base_uri": "https://localhost:8080/",
     "height": 533
    },
    "executionInfo": {
     "elapsed": 2130,
     "status": "ok",
     "timestamp": 1616764407003,
     "user": {
      "displayName": "Asad Sarwar",
      "photoUrl": "https://lh3.googleusercontent.com/a-/AOh14Ggmg8KAamuwr0KODjwTK-wdnaHVYfUs-pYngIAs8Q=s64",
      "userId": "07102495113250830136"
     },
     "user_tz": -300
    },
    "id": "ongxn2NydUKp",
    "outputId": "d8800d90-b05d-4da4-9107-13e43c221647"
   },
   "outputs": [
    {
     "data": {
      "image/png": "[encoded data removed]",
      "text/plain": [
       "<Figure size 576x432 with 2 Axes>"
      ]
     },
     "metadata": {
      "needs_background": "light",
      "tags": []
     },
     "output_type": "display_data"
    },
    {
     "name": "stdout",
     "output_type": "stream",
     "text": [
      "Confusion matrix: \n",
      " [[9992  605]\n",
      " [ 696   68]]\n",
      "TP:  68\n",
      "TN:  9992\n",
      "FP:  605\n",
      "FN:  696\n"
     ]
    }
   ],
   "source": [
    "Y_pred = rfc.predict(X_test)\n",
    "conf_mat = metrics.confusion_matrix(Y_test, Y_pred)\n",
    "plt.figure(figsize=(8,6))\n",
    "sns.heatmap(conf_mat,annot=True)\n",
    "plt.title(\"Confusion_matrix\")\n",
    "plt.xlabel(\"Predicted Class\")\n",
    "plt.ylabel(\"Actual class\")\n",
    "plt.show()\n",
    "print('Confusion matrix: \\n', conf_mat)\n",
    "print('TP: ', conf_mat[1,1])\n",
    "print('TN: ', conf_mat[0,0])\n",
    "print('FP: ', conf_mat[0,1])\n",
    "print('FN: ', conf_mat[1,0])"
   ]
  },
  {
   "cell_type": "code",
   "execution_count": 21,
   "metadata": {
    "colab": {
     "base_uri": "https://localhost:8080/"
    },
    "executionInfo": {
     "elapsed": 900,
     "status": "ok",
     "timestamp": 1616764421325,
     "user": {
      "displayName": "Asad Sarwar",
      "photoUrl": "https://lh3.googleusercontent.com/a-/AOh14Ggmg8KAamuwr0KODjwTK-wdnaHVYfUs-pYngIAs8Q=s64",
      "userId": "07102495113250830136"
     },
     "user_tz": -300
    },
    "id": "3pL8g3knqzWy",
    "outputId": "cb7dff7e-6c2b-4060-894c-2ee459122f88"
   },
   "outputs": [
    {
     "name": "stdout",
     "output_type": "stream",
     "text": [
      "Accuracy score before feature selection:  88.54854326203679\n"
     ]
    }
   ],
   "source": [
    "print('Accuracy score before feature selection: ',metrics.accuracy_score(Y_test,Y_pred)*100)"
   ]
  },
  {
   "cell_type": "code",
   "execution_count": 57,
   "metadata": {
    "executionInfo": {
     "elapsed": 1362,
     "status": "ok",
     "timestamp": 1616765016248,
     "user": {
      "displayName": "Asad Sarwar",
      "photoUrl": "https://lh3.googleusercontent.com/a-/AOh14Ggmg8KAamuwr0KODjwTK-wdnaHVYfUs-pYngIAs8Q=s64",
      "userId": "07102495113250830136"
     },
     "user_tz": -300
    },
    "id": "JLK9iravdUM6"
   },
   "outputs": [],
   "source": [
    "# Selecting features with higher sifnificance and redefining feature set\n",
    "X = dataset[[ 'Speed_limit','Sex_of_Driver','Urban_or_Rural_Area', 'Road_Type','Number_of_Vehicles','Road_Surface_Conditions','Age_of_Driver','1st_Point_of_Impact','Light_Conditions','Weather_Conditions','Vehicle_Manoeuvre']]"
   ]
  },
  {
   "cell_type": "code",
   "execution_count": 58,
   "metadata": {
    "executionInfo": {
     "elapsed": 1160,
     "status": "ok",
     "timestamp": 1616765016256,
     "user": {
      "displayName": "Asad Sarwar",
      "photoUrl": "https://lh3.googleusercontent.com/a-/AOh14Ggmg8KAamuwr0KODjwTK-wdnaHVYfUs-pYngIAs8Q=s64",
      "userId": "07102495113250830136"
     },
     "user_tz": -300
    },
    "id": "WCs76nOkdUPW"
   },
   "outputs": [],
   "source": [
    "feature_scaler = StandardScaler()\n",
    "X_scaled = feature_scaler.fit_transform(X)"
   ]
  },
  {
   "cell_type": "code",
   "execution_count": 59,
   "metadata": {
    "executionInfo": {
     "elapsed": 1025,
     "status": "ok",
     "timestamp": 1616765016264,
     "user": {
      "displayName": "Asad Sarwar",
      "photoUrl": "https://lh3.googleusercontent.com/a-/AOh14Ggmg8KAamuwr0KODjwTK-wdnaHVYfUs-pYngIAs8Q=s64",
      "userId": "07102495113250830136"
     },
     "user_tz": -300
    },
    "id": "KTkMxGDadURY"
   },
   "outputs": [],
   "source": [
    "# Dividing dataset into training and test sets\n",
    "X_train, X_test, Y_train, Y_test = train_test_split( X_scaled, Y, test_size = 0.3, random_state = 100)"
   ]
  },
  {
   "cell_type": "code",
   "execution_count": 60,
   "metadata": {
    "colab": {
     "base_uri": "https://localhost:8080/"
    },
    "executionInfo": {
     "elapsed": 1449,
     "status": "ok",
     "timestamp": 1616765016835,
     "user": {
      "displayName": "Asad Sarwar",
      "photoUrl": "https://lh3.googleusercontent.com/a-/AOh14Ggmg8KAamuwr0KODjwTK-wdnaHVYfUs-pYngIAs8Q=s64",
      "userId": "07102495113250830136"
     },
     "user_tz": -300
    },
    "id": "oUHxuHpxdUTp",
    "outputId": "5001f08d-ef4d-40c2-beff-b7997c6c3b9c"
   },
   "outputs": [
    {
     "name": "stderr",
     "output_type": "stream",
     "text": [
      "/usr/local/lib/python3.7/dist-packages/sklearn/utils/deprecation.py:87: FutureWarning: Function safe_indexing is deprecated; safe_indexing is deprecated in version 0.22 and will be removed in version 0.24.\n",
      "  warnings.warn(msg, category=FutureWarning)\n"
     ]
    }
   ],
   "source": [
    "smote = SMOTE(random_state = 101)\n",
    "X_train,Y_train = smote.fit_sample(X_train,Y_train)"
   ]
  },
  {
   "cell_type": "code",
   "execution_count": 61,
   "metadata": {
    "colab": {
     "base_uri": "https://localhost:8080/"
    },
    "executionInfo": {
     "elapsed": 26834,
     "status": "ok",
     "timestamp": 1616765042370,
     "user": {
      "displayName": "Asad Sarwar",
      "photoUrl": "https://lh3.googleusercontent.com/a-/AOh14Ggmg8KAamuwr0KODjwTK-wdnaHVYfUs-pYngIAs8Q=s64",
      "userId": "07102495113250830136"
     },
     "user_tz": -300
    },
    "id": "N5m8f8jPdUVt",
    "outputId": "63db322d-5eb2-4982-c0a7-e8d988183b9a"
   },
   "outputs": [
    {
     "data": {
      "text/plain": [
       "RandomForestClassifier(bootstrap=True, ccp_alpha=0.0, class_weight=None,\n",
       "                       criterion='entropy', max_depth=None, max_features='auto',\n",
       "                       max_leaf_nodes=None, max_samples=None,\n",
       "                       min_impurity_decrease=0.0, min_impurity_split=None,\n",
       "                       min_samples_leaf=1, min_samples_split=2,\n",
       "                       min_weight_fraction_leaf=0.0, n_estimators=400,\n",
       "                       n_jobs=None, oob_score=False, random_state=1, verbose=0,\n",
       "                       warm_start=False)"
      ]
     },
     "execution_count": 61,
     "metadata": {
      "tags": []
     },
     "output_type": "execute_result"
    }
   ],
   "source": [
    "rfc = RandomForestClassifier(n_estimators=400, criterion='entropy', max_features='auto', random_state=1)\n",
    "rfc.fit(X_train,Y_train)"
   ]
  },
  {
   "cell_type": "code",
   "execution_count": 62,
   "metadata": {
    "colab": {
     "base_uri": "https://localhost:8080/",
     "height": 533
    },
    "executionInfo": {
     "elapsed": 27538,
     "status": "ok",
     "timestamp": 1616765043968,
     "user": {
      "displayName": "Asad Sarwar",
      "photoUrl": "https://lh3.googleusercontent.com/a-/AOh14Ggmg8KAamuwr0KODjwTK-wdnaHVYfUs-pYngIAs8Q=s64",
      "userId": "07102495113250830136"
     },
     "user_tz": -300
    },
    "id": "OP6yMp_OdUYC",
    "outputId": "9ec84a76-cbd5-42ca-f3ad-15bcd862555c"
   },
   "outputs": [
    {
     "data": {
      "image/png": "[encoded data removed]",
      "text/plain": [
       "<Figure size 576x432 with 2 Axes>"
      ]
     },
     "metadata": {
      "needs_background": "light",
      "tags": []
     },
     "output_type": "display_data"
    },
    {
     "name": "stdout",
     "output_type": "stream",
     "text": [
      "Confusion matrix: \n",
      " [[9855  742]\n",
      " [ 677   87]]\n",
      "TP:  87\n",
      "TN:  9855\n",
      "FP:  742\n",
      "FN:  677\n"
     ]
    }
   ],
   "source": [
    "Y_pred = rfc.predict(X_test)\n",
    "conf_mat = metrics.confusion_matrix(Y_test, Y_pred)\n",
    "plt.figure(figsize=(8,6))\n",
    "sns.heatmap(conf_mat,annot=True)\n",
    "plt.title(\"Confusion_matrix\")\n",
    "plt.xlabel(\"Predicted Class\")\n",
    "plt.ylabel(\"Actual class\")\n",
    "plt.show()\n",
    "print('Confusion matrix: \\n', conf_mat)\n",
    "print('TP: ', conf_mat[1,1])\n",
    "print('TN: ', conf_mat[0,0])\n",
    "print('FP: ', conf_mat[0,1])\n",
    "print('FN: ', conf_mat[1,0])"
   ]
  },
  {
   "cell_type": "code",
   "execution_count": 63,
   "metadata": {
    "colab": {
     "base_uri": "https://localhost:8080/"
    },
    "executionInfo": {
     "elapsed": 27296,
     "status": "ok",
     "timestamp": 1616765043983,
     "user": {
      "displayName": "Asad Sarwar",
      "photoUrl": "https://lh3.googleusercontent.com/a-/AOh14Ggmg8KAamuwr0KODjwTK-wdnaHVYfUs-pYngIAs8Q=s64",
      "userId": "07102495113250830136"
     },
     "user_tz": -300
    },
    "id": "htlMiY_qdUZo",
    "outputId": "7fa2facf-3751-4267-f459-fc920ddc7a7e"
   },
   "outputs": [
    {
     "name": "stdout",
     "output_type": "stream",
     "text": [
      "Accuracy score:  87.50990229733299\n"
     ]
    }
   ],
   "source": [
    "print('Accuracy score: ',metrics.accuracy_score(Y_test,Y_pred)*100)"
   ]
  },
  {
   "cell_type": "code",
   "execution_count": null,
   "metadata": {
    "id": "BAYEYGnddUbK"
   },
   "outputs": [],
   "source": []
  }
 ],
 "metadata": {
  "accelerator": "GPU",
  "colab": {
   "authorship_tag": "ABX9TyMwig74WBG813l7jO5JpFLe",
   "collapsed_sections": [],
   "mount_file_id": "1iCPncRPTgk9ThuSKwxoUsHH-L8J3Ii-G",
   "name": "proj.ipynb",
   "provenance": []
  },
  "kernelspec": {
   "display_name": "Python 3",
   "language": "python",
   "name": "python3"
  },
  "language_info": {
   "codemirror_mode": {
    "name": "ipython",
    "version": 3
   },
   "file_extension": ".py",
   "mimetype": "text/x-python",
   "name": "python",
   "nbconvert_exporter": "python",
   "pygments_lexer": "ipython3",
   "version": "3.8.0"
  }
 },
 "nbformat": 4,
 "nbformat_minor": 1
}
